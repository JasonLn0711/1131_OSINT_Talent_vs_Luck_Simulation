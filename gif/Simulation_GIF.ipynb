{
  "nbformat": 4,
  "nbformat_minor": 0,
  "metadata": {
    "colab": {
      "provenance": [],
      "authorship_tag": "ABX9TyN+v4dMBHdWnaIeQ5hHLcyr",
      "include_colab_link": true
    },
    "kernelspec": {
      "name": "python3",
      "display_name": "Python 3"
    },
    "language_info": {
      "name": "python"
    }
  },
  "cells": [
    {
      "cell_type": "markdown",
      "metadata": {
        "id": "view-in-github",
        "colab_type": "text"
      },
      "source": [
        "<a href=\"https://colab.research.google.com/github/JasonLn0711/Talent_vs_Luck_Simulation/blob/main/Simulation_GIF.ipynb\" target=\"_parent\"><img src=\"https://colab.research.google.com/assets/colab-badge.svg\" alt=\"Open In Colab\"/></a>"
      ]
    },
    {
      "cell_type": "code",
      "execution_count": 3,
      "metadata": {
        "colab": {
          "base_uri": "https://localhost:8080/"
        },
        "id": "q6JL561S5JP4",
        "outputId": "c8c45b85-b969-43de-e372-6a1a5ae966af"
      },
      "outputs": [
        {
          "output_type": "stream",
          "name": "stdout",
          "text": [
            "Mounted at /content/drive\n"
          ]
        }
      ],
      "source": [
        "import numpy as np\n",
        "import matplotlib.pyplot as plt\n",
        "import matplotlib.animation as animation\n",
        "import imageio\n",
        "\n",
        "# Simulation parameters\n",
        "grid_size = (201, 201)\n",
        "num_agents = 1000\n",
        "num_events = 500\n",
        "event_probability = 0.5\n",
        "initial_capital = 100000\n",
        "simulation_years = 40\n",
        "time_steps = simulation_years * 2  # every 6 months\n",
        "\n",
        "# Initialize agents\n",
        "np.random.seed(0)\n",
        "talents = np.random.normal(loc=0.6, scale=0.1, size=num_agents)\n",
        "talents = np.clip(talents, 0, 1)\n",
        "capitals = np.full(num_agents, initial_capital)\n",
        "\n",
        "# Initialize agent positions and events\n",
        "agent_positions = np.random.randint(0, grid_size[0], (num_agents, 2))\n",
        "event_positions = np.random.randint(0, grid_size[0], (num_events, 2))\n",
        "event_types = np.random.choice(['lucky', 'unlucky'], size=num_events, p=[event_probability, 1 - event_probability])\n",
        "\n",
        "# Separate lucky and unlucky events\n",
        "lucky_events = event_positions[event_types == 'lucky']\n",
        "unlucky_events = event_positions[event_types == 'unlucky']\n",
        "\n",
        "# Create a list to store frames for the GIF\n",
        "frames = []\n",
        "\n",
        "# Simulation function\n",
        "def simulate():\n",
        "    for _ in range(time_steps):\n",
        "        # Move agents randomly\n",
        "        movements = np.random.randint(-1, 2, agent_positions.shape)\n",
        "        agent_positions[:] = (agent_positions + movements) % grid_size[0]\n",
        "\n",
        "        # Detect encounters with events\n",
        "        for i, pos in enumerate(agent_positions):\n",
        "            distances = np.linalg.norm(event_positions - pos, axis=1)\n",
        "            close_event_idx = np.where(distances < 2)\n",
        "            for idx in close_event_idx[0]:\n",
        "                if event_types[idx] == 'lucky':\n",
        "                    capitals[i] *= 1.1\n",
        "                elif event_types[idx] == 'unlucky':\n",
        "                    capitals[i] *= 0.9\n",
        "\n",
        "        # Plot the current state\n",
        "        fig, ax = plt.subplots(figsize=(10, 10))\n",
        "        ax.set_xlim(0, grid_size[0])\n",
        "        ax.set_ylim(0, grid_size[1])\n",
        "        ax.scatter(agent_positions[:, 0], agent_positions[:, 1], color='blue', s=10, label='Agents')\n",
        "        ax.scatter(lucky_events[:, 0], lucky_events[:, 1], color='green', s=50, alpha=0.6, label='Lucky Events')\n",
        "        ax.scatter(unlucky_events[:, 0], unlucky_events[:, 1], color='red', s=50, alpha=0.6, label='Unlucky Events')\n",
        "        plt.title('Agent Movement and Event Interactions Over Time')\n",
        "        plt.xlabel('X Position')\n",
        "        plt.ylabel('Y Position')\n",
        "        plt.legend()\n",
        "        plt.grid(False)\n",
        "\n",
        "        # Save the frame to the frames list\n",
        "        fig.canvas.draw()\n",
        "        image = np.frombuffer(fig.canvas.tostring_rgb(), dtype='uint8')\n",
        "        image = image.reshape(fig.canvas.get_width_height()[::-1] + (3,))\n",
        "        frames.append(image)\n",
        "\n",
        "        plt.close(fig)\n",
        "\n",
        "# Run the simulation and gather frames\n",
        "simulate()\n",
        "\n",
        "from google.colab import drive\n",
        "drive.mount('/content/drive')\n",
        "\n",
        "# Save as GIF\n",
        "imageio.mimsave('/content/drive/MyDrive/Talent_vs_Luck_Simulation.gif', frames, fps=10)\n",
        "\n",
        "# The GIF file will be saved as 'simulation.gif'\n"
      ]
    },
    {
      "cell_type": "code",
      "source": [],
      "metadata": {
        "id": "dP9xuWlu7h0g"
      },
      "execution_count": null,
      "outputs": []
    }
  ]
}
